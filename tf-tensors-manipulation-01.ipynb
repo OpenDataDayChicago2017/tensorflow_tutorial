{
 "metadata": {
  "name": "",
  "signature": "sha256:9c17aebdd75ac4cfbb42afb82e22fbf4e287c208df93369192357efc3704fb41"
 },
 "nbformat": 3,
 "nbformat_minor": 0,
 "worksheets": [
  {
   "cells": [
    {
     "cell_type": "markdown",
     "metadata": {},
     "source": [
      "# Manipulating Tensors"
     ]
    },
    {
     "cell_type": "code",
     "collapsed": false,
     "input": [
      "import tensorflow as tf"
     ],
     "language": "python",
     "metadata": {},
     "outputs": [],
     "prompt_number": 1
    },
    {
     "cell_type": "markdown",
     "metadata": {},
     "source": [
      "# Vector Addition"
     ]
    },
    {
     "cell_type": "code",
     "collapsed": false,
     "input": [
      "with tf.Graph().as_default():\n",
      "    fibonacci = tf.constant([1, 1, 2, 3, 5, 8], dtype=tf.int32)\n",
      "    ones = tf.ones([6], dtype=tf.int32)\n",
      "    beyond_fibonacci = tf.add(fibonacci, ones)\n",
      "    \n",
      "    with tf.Session() as sess:\n",
      "        print beyond_fibonacci.eval()"
     ],
     "language": "python",
     "metadata": {},
     "outputs": [
      {
       "output_type": "stream",
       "stream": "stdout",
       "text": [
        "[2 2 3 4 6 9]\n"
       ]
      }
     ],
     "prompt_number": 2
    },
    {
     "cell_type": "markdown",
     "metadata": {},
     "source": [
      "# Tensor Shapes"
     ]
    },
    {
     "cell_type": "code",
     "collapsed": false,
     "input": [
      "with tf.Graph().as_default():\n",
      "    scalar = tf.zeros([])\n",
      "    vector = tf.zeros([3])\n",
      "    matrix = tf.zeros([2,3])\n",
      "    \n",
      "    with tf.Session() as sess:\n",
      "        print 'scalar has shape', scalar.get_shape(), 'and value: \\n', scalar.eval()\n",
      "        print 'vector has shape', vector.get_shape(), 'and value: \\n', vector.eval()\n",
      "        print 'matrix has shape', matrix.get_shape(), 'and value: \\n', matrix.eval()"
     ],
     "language": "python",
     "metadata": {},
     "outputs": [
      {
       "output_type": "stream",
       "stream": "stdout",
       "text": [
        "scalar has shape () and value: \n",
        "0.0\n",
        "vector has shape (3,) and value: \n",
        "[ 0.  0.  0.]\n",
        "matrix has shape (2, 3) and value: \n",
        "[[ 0.  0.  0.]\n",
        " [ 0.  0.  0.]]\n"
       ]
      }
     ],
     "prompt_number": 3
    },
    {
     "cell_type": "markdown",
     "metadata": {},
     "source": [
      "# Broadcasting"
     ]
    },
    {
     "cell_type": "code",
     "collapsed": false,
     "input": [
      "with tf.Graph().as_default():\n",
      "    fibonacci = tf.constant([1, 1, 2, 3, 5, 8], dtype=tf.int32)\n",
      "    ones = tf.ones(1, dtype=tf.int32)\n",
      "    beyond_fibonacci = tf.add(fibonacci, ones)\n",
      "    \n",
      "    with tf.Session() as sess:\n",
      "        print beyond_fibonacci.eval()"
     ],
     "language": "python",
     "metadata": {},
     "outputs": [
      {
       "output_type": "stream",
       "stream": "stdout",
       "text": [
        "[2 2 3 4 6 9]\n"
       ]
      }
     ],
     "prompt_number": 4
    },
    {
     "cell_type": "markdown",
     "metadata": {},
     "source": [
      "# Matrix Multiplication"
     ]
    },
    {
     "cell_type": "code",
     "collapsed": false,
     "input": [
      "with tf.Graph().as_default():\n",
      "    x = tf.constant([[5, 2, 4, 3], [5, 1, 6, -2], [-1, 3, -1, -2]], dtype=tf.int32)\n",
      "    y = tf.constant([[2, 2], [3, 5], [4, 5], [1, 6]], dtype=tf.int32)\n",
      "    xy = tf.matmul(x, y)\n",
      "    \n",
      "    with tf.Session() as sess:\n",
      "        print xy.eval()"
     ],
     "language": "python",
     "metadata": {},
     "outputs": [
      {
       "output_type": "stream",
       "stream": "stdout",
       "text": [
        "[[35 58]\n",
        " [35 33]\n",
        " [ 1 -4]]\n"
       ]
      }
     ],
     "prompt_number": 5
    },
    {
     "cell_type": "markdown",
     "metadata": {},
     "source": [
      "# Tensor Reshaping"
     ]
    },
    {
     "cell_type": "code",
     "collapsed": false,
     "input": [
      "with tf.Graph().as_default():\n",
      "    a = tf.constant([5, 2, 4, 3], dtype=tf.int32)\n",
      "    b = tf.reshape(a, [2, 2])\n",
      "    c = tf.reshape(b, [4, 1])\n",
      "    \n",
      "    with tf.Session() as sess:\n",
      "        print 'a', a.eval()\n",
      "        print 'b', b.eval()\n",
      "        print 'c', c.eval()"
     ],
     "language": "python",
     "metadata": {},
     "outputs": [
      {
       "output_type": "stream",
       "stream": "stdout",
       "text": [
        "a [5 2 4 3]\n",
        "b [[5 2]\n",
        " [4 3]]\n",
        "c [[5]\n",
        " [2]\n",
        " [4]\n",
        " [3]]\n"
       ]
      }
     ],
     "prompt_number": 6
    },
    {
     "cell_type": "code",
     "collapsed": false,
     "input": [
      "with tf.Graph().as_default():\n",
      "    a = tf.constant([5, 3, 2, 7, 1, 4])\n",
      "    b = tf.constant([4, 6, 3])\n",
      "    \n",
      "    c = tf.reshape(a, [2, 3])\n",
      "    d = tf.reshape(b, [3, 1])\n",
      "    \n",
      "    cd = tf.matmul(c, d)\n",
      "    \n",
      "    with tf.Session() as sess:\n",
      "        print 'c shape', c.get_shape(), 'value \\n', c.eval()\n",
      "        print 'd shape', d.get_shape(), 'value \\n', d.eval()\n",
      "        print 'cd shape', cd.get_shape(), 'value \\n', cd.eval()"
     ],
     "language": "python",
     "metadata": {},
     "outputs": [
      {
       "output_type": "stream",
       "stream": "stdout",
       "text": [
        "c shape (2, 3) value \n",
        "[[5 3 2]\n",
        " [7 1 4]]\n",
        "d shape (3, 1) value \n",
        "[[4]\n",
        " [6]\n",
        " [3]]\n",
        "cd shape (2, 1) value \n",
        "[[44]\n",
        " [46]]\n"
       ]
      }
     ],
     "prompt_number": 7
    },
    {
     "cell_type": "markdown",
     "metadata": {},
     "source": [
      "# Variables, Initialization and Assignment"
     ]
    },
    {
     "cell_type": "code",
     "collapsed": false,
     "input": [
      "g = tf.Graph()"
     ],
     "language": "python",
     "metadata": {},
     "outputs": [],
     "prompt_number": 8
    },
    {
     "cell_type": "code",
     "collapsed": false,
     "input": [
      "with g.as_default():\n",
      "    v = tf.Variable([3])\n",
      "    w = tf.Variable(tf.random_normal([1], mean=1.0, stddev=0.35))"
     ],
     "language": "python",
     "metadata": {},
     "outputs": [],
     "prompt_number": 9
    },
    {
     "cell_type": "code",
     "collapsed": false,
     "input": [
      "with g.as_default():\n",
      "    with tf.Session() as sess:\n",
      "        try:\n",
      "            v.eval()\n",
      "        except tf.errors.FailedPreconditionError as e:\n",
      "            print \"Caught expected error\", e"
     ],
     "language": "python",
     "metadata": {},
     "outputs": [
      {
       "output_type": "stream",
       "stream": "stdout",
       "text": [
        "Caught expected error Attempting to use uninitialized value Variable\n",
        "\t [[Node: _send_Variable_0 = _Send[T=DT_INT32, client_terminated=true, recv_device=\"/job:localhost/replica:0/task:0/cpu:0\", send_device=\"/job:localhost/replica:0/task:0/cpu:0\", send_device_incarnation=-268710693039209531, tensor_name=\"Variable:0\", _device=\"/job:localhost/replica:0/task:0/cpu:0\"](Variable)]]\n"
       ]
      }
     ],
     "prompt_number": 10
    },
    {
     "cell_type": "code",
     "collapsed": false,
     "input": [
      "with g.as_default():\n",
      "    with tf.Session() as sess:\n",
      "        initialization = tf.initialize_all_variables()\n",
      "        sess.run(initialization)\n",
      "        print v.eval()\n",
      "        print w.eval()"
     ],
     "language": "python",
     "metadata": {},
     "outputs": [
      {
       "output_type": "stream",
       "stream": "stdout",
       "text": [
        "[3]\n",
        "[ 1.0116322]\n"
       ]
      }
     ],
     "prompt_number": 11
    },
    {
     "cell_type": "code",
     "collapsed": false,
     "input": [
      "with g.as_default():\n",
      "    with tf.Session() as sess:\n",
      "        sess.run(tf.initialize_all_variables())\n",
      "        print w.eval()\n",
      "        print w.eval()\n",
      "        print w.eval()"
     ],
     "language": "python",
     "metadata": {},
     "outputs": [
      {
       "output_type": "stream",
       "stream": "stdout",
       "text": [
        "[ 1.02623677]\n",
        "[ 1.02623677]\n",
        "[ 1.02623677]\n"
       ]
      }
     ],
     "prompt_number": 12
    },
    {
     "cell_type": "code",
     "collapsed": false,
     "input": [
      "with g.as_default():\n",
      "    with tf.Session() as sess:\n",
      "        sess.run(tf.initialize_all_variables())\n",
      "        \n",
      "        print v.eval()\n",
      "        \n",
      "        assignment = tf.assign(v,[7])\n",
      "        print v.eval()\n",
      "        \n",
      "        sess.run(assignment)\n",
      "        print v.eval()"
     ],
     "language": "python",
     "metadata": {},
     "outputs": [
      {
       "output_type": "stream",
       "stream": "stdout",
       "text": [
        "[3]\n",
        "[3]\n",
        "[7]\n"
       ]
      }
     ],
     "prompt_number": 13
    },
    {
     "cell_type": "code",
     "collapsed": false,
     "input": [],
     "language": "python",
     "metadata": {},
     "outputs": []
    }
   ],
   "metadata": {}
  }
 ]
}