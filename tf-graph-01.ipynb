{
 "metadata": {
  "name": "",
  "signature": "sha256:51eea96adec6ac449fa39c082cf2e1b459b5caca45224eda0070702df09cc3c5"
 },
 "nbformat": 3,
 "nbformat_minor": 0,
 "worksheets": [
  {
   "cells": [
    {
     "cell_type": "code",
     "collapsed": false,
     "input": [
      "import tensorflow as tf"
     ],
     "language": "python",
     "metadata": {},
     "outputs": [],
     "prompt_number": 1
    },
    {
     "cell_type": "code",
     "collapsed": false,
     "input": [
      "g = tf.Graph()"
     ],
     "language": "python",
     "metadata": {},
     "outputs": [],
     "prompt_number": 2
    },
    {
     "cell_type": "code",
     "collapsed": false,
     "input": [
      "with g.as_default():\n",
      "    \n",
      "    x = tf.constant([8], name=\"x_const\")\n",
      "    y = tf.constant([5], name=\"y_const\")\n",
      "    sum1 = tf.add(x, y, name=\"x_y_sum\")\n",
      "        \n",
      "    z = tf.constant([7], name=\"z_const\")\n",
      "    sum2 = tf.add(z, sum1, name=\"x_y_z_sum\")\n",
      "\n",
      "    with tf.Session() as sess:\n",
      "        print 'Sum1 = ', sum1.eval()\n",
      "        print 'Sum2 = ', sum2.eval()"
     ],
     "language": "python",
     "metadata": {},
     "outputs": [
      {
       "output_type": "stream",
       "stream": "stdout",
       "text": [
        "Sum1 =  "
       ]
      },
      {
       "output_type": "stream",
       "stream": "stdout",
       "text": [
        "[13]\n",
        "Sum2 =  [20]\n"
       ]
      }
     ],
     "prompt_number": 3
    },
    {
     "cell_type": "code",
     "collapsed": false,
     "input": [],
     "language": "python",
     "metadata": {},
     "outputs": []
    }
   ],
   "metadata": {}
  }
 ]
}