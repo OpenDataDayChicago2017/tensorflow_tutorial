{
 "metadata": {
  "name": "",
  "signature": "sha256:d7a3f03902d8883fa0d930da576818cdf9e1e646132d6bdf949de60254bc58c1"
 },
 "nbformat": 3,
 "nbformat_minor": 0,
 "worksheets": [
  {
   "cells": [
    {
     "cell_type": "code",
     "collapsed": false,
     "input": [
      "import tensorflow as tf"
     ],
     "language": "python",
     "metadata": {},
     "outputs": [],
     "prompt_number": 19
    },
    {
     "cell_type": "code",
     "collapsed": false,
     "input": [
      "g = tf.Graph()"
     ],
     "language": "python",
     "metadata": {},
     "outputs": [],
     "prompt_number": 20
    },
    {
     "cell_type": "code",
     "collapsed": false,
     "input": [
      "with g.as_default():\n",
      "    \n",
      "    x = tf.constant([8], name=\"x_const\")\n",
      "    y = tf.constant([5], name=\"y_const\")\n",
      "    sum1 = tf.add(x, y, name=\"x_y_sum\")\n",
      "        \n",
      "    z = tf.constant([7], name=\"z_const\")\n",
      "    sum2 = tf.add(z, sum1, name=\"x_y_z_sum\")\n",
      "\n",
      "    with tf.Session() as sess:\n",
      "        print 'Sum1 = ', sum1.eval()\n",
      "        print 'Sum2 = ', sum2.eval()"
     ],
     "language": "python",
     "metadata": {},
     "outputs": [
      {
       "output_type": "stream",
       "stream": "stdout",
       "text": [
        "Sum  =  [13]\n",
        "Sum2 =  [20]\n"
       ]
      }
     ],
     "prompt_number": 21
    },
    {
     "cell_type": "code",
     "collapsed": false,
     "input": [],
     "language": "python",
     "metadata": {},
     "outputs": []
    }
   ],
   "metadata": {}
  }
 ]
}