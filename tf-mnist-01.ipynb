{
 "metadata": {
  "name": "",
  "signature": "sha256:648c70155926f416d2e65003f8b0ba90c4a90174dac0514dc7c4649d002cf58c"
 },
 "nbformat": 3,
 "nbformat_minor": 0,
 "worksheets": [
  {
   "cells": [
    {
     "cell_type": "code",
     "collapsed": false,
     "input": [
      "import tensorflow as tf"
     ],
     "language": "python",
     "metadata": {},
     "outputs": [],
     "prompt_number": 1
    },
    {
     "cell_type": "code",
     "collapsed": false,
     "input": [
      "from tensorflow.examples.tutorials.mnist import input_data\n",
      "mnist = input_data.read_data_sets(\"MNIST_data/\", one_hot=True)"
     ],
     "language": "python",
     "metadata": {},
     "outputs": [
      {
       "output_type": "stream",
       "stream": "stdout",
       "text": [
        "Extracting MNIST_data/train-images-idx3-ubyte.gz\n",
        "Extracting"
       ]
      },
      {
       "output_type": "stream",
       "stream": "stdout",
       "text": [
        " MNIST_data/train-labels-idx1-ubyte.gz\n",
        "Extracting MNIST_data/t10k-images-idx3-ubyte.gz\n",
        "Extracting"
       ]
      },
      {
       "output_type": "stream",
       "stream": "stdout",
       "text": [
        " MNIST_data/t10k-labels-idx1-ubyte.gz\n"
       ]
      }
     ],
     "prompt_number": 2
    },
    {
     "cell_type": "markdown",
     "metadata": {},
     "source": [
      "Neural network:   W.x + b"
     ]
    },
    {
     "cell_type": "code",
     "collapsed": false,
     "input": [
      "X = tf.placeholder(tf.float32, [None, 784])\n",
      "W = tf.Variable(tf.zeros([784, 10]))\n",
      "b = tf.Variable(tf.zeros([10]))"
     ],
     "language": "python",
     "metadata": {},
     "outputs": [],
     "prompt_number": 3
    },
    {
     "cell_type": "code",
     "collapsed": false,
     "input": [
      "# model\n",
      "Y = tf.nn.softmax(tf.matmul(X, W) + b)"
     ],
     "language": "python",
     "metadata": {},
     "outputs": [],
     "prompt_number": 4
    },
    {
     "cell_type": "code",
     "collapsed": false,
     "input": [
      "# placeholder for correct answers (\"one-hot\" encoded)\n",
      "Y_ = tf.placeholder(tf.float32, [None, 10])"
     ],
     "language": "python",
     "metadata": {},
     "outputs": [],
     "prompt_number": 5
    },
    {
     "cell_type": "code",
     "collapsed": false,
     "input": [
      "# loss function\n",
      "cross_entropy = tf.reduce_mean(-tf.reduce_sum(Y_ * tf.log(Y), reduction_indices=[1]))"
     ],
     "language": "python",
     "metadata": {},
     "outputs": [],
     "prompt_number": 6
    },
    {
     "cell_type": "markdown",
     "metadata": {},
     "source": [
      "Mathematical operators documentation\n",
      "https://www.tensorflow.org/versions/r0.11/api_docs/python/math_ops.html"
     ]
    },
    {
     "cell_type": "code",
     "collapsed": false,
     "input": [
      "# % of correct answers found in batch\n",
      "is_correct = tf.equal(tf.argmax(Y,1), tf.argmax(Y_,1))\n",
      "accuracy = tf.reduce_mean(tf.cast(is_correct, tf.float32))"
     ],
     "language": "python",
     "metadata": {},
     "outputs": [],
     "prompt_number": 7
    },
    {
     "cell_type": "code",
     "collapsed": false,
     "input": [
      "# traning\n",
      "optimizer = tf.train.GradientDescentOptimizer(0.003) # learning rate\n",
      "train_step = optimizer.minimize(cross_entropy)  # loss function"
     ],
     "language": "python",
     "metadata": {},
     "outputs": [],
     "prompt_number": 8
    },
    {
     "cell_type": "code",
     "collapsed": false,
     "input": [
      "init = tf.initialize_all_variables()\n",
      "sess = tf.Session()\n",
      "sess.run(init)"
     ],
     "language": "python",
     "metadata": {},
     "outputs": [],
     "prompt_number": 9
    },
    {
     "cell_type": "code",
     "collapsed": false,
     "input": [
      "for i in range(1000):\n",
      "    # load batch of images and correct answers\n",
      "    batch_X, batch_Y = mnist.train.next_batch(100)\n",
      "    train_data = {X: batch_X, Y_: batch_Y}\n",
      "    \n",
      "    # train\n",
      "    sess.run(train_step, feed_dict=train_data)\n",
      "        \n",
      "    # success on test data ?\n",
      "    test_data = {X: mnist.test.images, Y_: mnist.test.labels}\n",
      "    a, c = sess.run([accuracy, cross_entropy], feed_dict=test_data)"
     ],
     "language": "python",
     "metadata": {},
     "outputs": [],
     "prompt_number": 11
    },
    {
     "cell_type": "code",
     "collapsed": false,
     "input": [],
     "language": "python",
     "metadata": {},
     "outputs": []
    }
   ],
   "metadata": {}
  }
 ]
}